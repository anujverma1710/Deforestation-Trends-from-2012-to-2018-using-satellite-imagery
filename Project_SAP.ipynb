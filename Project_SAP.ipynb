{
 "cells": [
  {
   "cell_type": "markdown",
   "metadata": {},
   "source": [
    "<h2> Project SAP - Analyzing deforestation rates in South America </h2>\n",
    "<h3> Team members: Anuj Verma(112504481), Priyanka Bedarkar(112046765) and Saif Vazir(112072061) </h3>\n",
    "<h4> General Description of Code </h4>\n",
    "<ul>\n",
    "    <li>Create RDD of Forest Gain images and calculate total forest gain from 2000-2012</li>\n",
    "    <li>Create RDD of Forest Loss images and calculate total forest loss for each year from 2012-2018</li>\n",
    "    <li>Split images into smaller tiles for analysis at a finer granularity</li>\n",
    "    <li>Generate forest change maps for smaller tiles</li> \n",
    "    <li>Use smaller tiles to pass through CNN and extract features</li>\n",
    "    <li>Use kmeans clustering on these features and find the correct number of clusters by analyzing through elbow method</li>\n",
    "    <li>Use hand-crafted features and apply kmeans clustering, find correct number of clusters by analyzing through elbow method</li>\n",
    "    <li>Use regression to find correlation between latitude,longitude and deforestation. Use regression model to predict deforestation rates given latitude and longitude as inputs.</li>\n",
    "</ul>\n",
    "<h4> Cluster configuration </h4>\n",
    "<ul>\n",
    "    <li>Used Google Cloud Platform</li>\n",
    "    <li>Google Dataproc running Debian 9, Spark 2.3, Hadoop 2.9.2, Python 2.7\n",
    "    <li>Config: 1 Leader, 4 workers </li>\n",
    "    <li>Each node has 26GB RAM(n1-highmem)</li>\n",
    "    <li>Disk space used is 100GB for master node and 30GB for each worker node</li>\n",
    "    <li>Install Opencv, Pytorch, PIL on all nodes</li>\n",
    "    <li>Change MAX_IMAGE_PIXELS in Image.py(in PIL package) to (16384*16384*16384)</li>\n",
    "</ul>\n",
    "<h4> Spark Configuration </h4>\n",
    "<ul>\n",
    "    <li>Spark config in program\n",
    "        <ul>\n",
    "            <li>spark.executor.memory set as 17GB</li>\n",
    "            <li>spark.yarn.executor.memoryOverhead set as 3GB</li>\n",
    "        </ul>\n",
    "    </li>\n",
    "    <li>Changes in spark-default.conf\n",
    "        <ul>\n",
    "            <li>spark.driver.memory set as 15GB</li>\n",
    "            <li>spark.memory.offHeap.enabled set as true</li>\n",
    "            <li>spark.memory.offHeap.size set as 8GB</li>\n",
    "            <li>spark.driver.maxResultSize set as 8GB</li>\n",
    "            <li>spark.sql.shuffle.partitions set as 1000</li>\n",
    "            <li>spark.storage.memoryFraction set as 0.1</li>\n",
    "        </ul>\n",
    "    </li>\n",
    "</ul>"
   ]
  },
  {
   "cell_type": "code",
   "execution_count": 308,
   "metadata": {},
   "outputs": [],
   "source": [
    "### Import packages ######\n",
    "from pyspark import SparkConf, SparkContext\n",
    "import numpy as np\n",
    "from glob import glob\n",
    "import os\n",
    "from PIL import Image\n",
    "import io"
   ]
  },
  {
   "cell_type": "markdown",
   "metadata": {},
   "source": [
    "<h2>Setting spark configuration</h2>"
   ]
  },
  {
   "cell_type": "code",
   "execution_count": 309,
   "metadata": {},
   "outputs": [],
   "source": [
    "# sc.stop()\n",
    "conf = SparkConf()\n",
    "conf.set(\"spark.executor.memory\",'17g')\n",
    "# conf.set('spark.driver.memory','8g')\n",
    "# conf.set('spark.memory.offHeap.enabled','true')\n",
    "# conf.set('spark.memory.offHeap.size','15g')\n",
    "# conf.set('spark.cores.max','5')\n",
    "# conf.set('spark.driver.maxResultSize','8g')\n",
    "# conf.set('spark.sql.shuffle.partitions','1000')\n",
    "# conf.set('spark.storage.memoryFraction','0.1')\n",
    "conf.set('spark.yarn.executor.memoryOverhead','3g')\n",
    "sc = SparkContext(conf=conf)"
   ]
  },
  {
   "cell_type": "markdown",
   "metadata": {},
   "source": [
    "<h2>Create RDD of Forest Gain Images</h2>"
   ]
  },
  {
   "cell_type": "code",
   "execution_count": 310,
   "metadata": {},
   "outputs": [],
   "source": [
    "rdd = sc.binaryFiles(\"hdfs://proj-working-m:8020/user/saif/gain/\")"
   ]
  },
  {
   "cell_type": "markdown",
   "metadata": {},
   "source": [
    "<h2> Map function for Gain images </h2>\n",
    "<p>Counts the total forest gain in a particular image. Each image cover 10x10degrees in the world map.<br>\n",
    "   Images have values 0's for no forest and 1's for forest gain. These outputs constitute a part of our final results\n",
    "to report the total forest gain in all of South America from 2000-2012 </p>\n",
    "<h3> Pipeline used:</h3>\n",
    "<ul>\n",
    "    <li>Spark</li>\n",
    "    <li>Hadoop(HDFS)</li>\n",
    "</ul>"
   ]
  },
  {
   "cell_type": "code",
   "execution_count": 311,
   "metadata": {},
   "outputs": [],
   "source": [
    "def mapper_func(x):\n",
    "    name = x[0]\n",
    "    img = Image.open(io.BytesIO(x[1]))###Read image from byte array\n",
    "    img = np.asarray(img,dtype=np.uint8)\n",
    "    total_gain = np.sum(img)\n",
    "    return (name,total_gain)\n"
   ]
  },
  {
   "cell_type": "code",
   "execution_count": 312,
   "metadata": {},
   "outputs": [
    {
     "name": "stdout",
     "output_type": "stream",
     "text": [
      "(u'hdfs://proj-working-m:8020/user/saif/gain/Hansen_GFC-2016-v1.4_gain_00N_050W.tif', 12098464)\n"
     ]
    }
   ],
   "source": [
    "####Collect forest gain results and print 1 ######\n",
    "res = rdd.map(mapper_func).collect()\n",
    "print(res[0])"
   ]
  },
  {
   "cell_type": "markdown",
   "metadata": {},
   "source": [
    "<h2> Save gain results for evaluation and other tasks </h2>"
   ]
  },
  {
   "cell_type": "code",
   "execution_count": 313,
   "metadata": {},
   "outputs": [],
   "source": [
    "f = open(\"/home/saifsuleman_vazir/gain_results_new.txt\",\"w\")\n",
    "for i in range(60):\n",
    "    f.write(str(res[i][0])+\",\"+str(res[i][1])+\"\\n\")\n",
    "for i in range(60,len(res)):\n",
    "    f.write(str(res[i][0])+\",\"+str(res[i][1])+\"\\n\")\n",
    "f.close()"
   ]
  },
  {
   "cell_type": "markdown",
   "metadata": {},
   "source": [
    "<h2> Map function for Loss images </h2>\n",
    "<p> Loss images have values of different years from 0-respective year when image was taken, which represents the year in which loss/deforestation took place in that area.<br>\n",
    "    We find the total number of pixels having that years value, which gives us total deforestation for a particular\n",
    "    10x10 degrees region.</p>\n",
    "<h3> Pipeline used:</h3>\n",
    "<ul>\n",
    "    <li>Spark</li>\n",
    "    <li>Hadoop(HDFS)</li>\n",
    "</ul>"
   ]
  },
  {
   "cell_type": "code",
   "execution_count": 314,
   "metadata": {},
   "outputs": [],
   "source": [
    "def loss_mapper_func(x):\n",
    "    name = x[0]\n",
    "    img = Image.open(io.BytesIO(x[1]))\n",
    "    img = np.asarray(img,dtype=np.uint8)\n",
    "    year = 0\n",
    "    if \"-\" in name.split(\"_\")[1]:\n",
    "        year = int(name.split(\"_\")[1].split(\"-\")[1][-2:])\n",
    "    else:\n",
    "        year = int(name.split(\"_\")[1][-2:])-1\n",
    "    ####Loss year images have year number as pixel values, hence find all pixels with that particular year####\n",
    "    ####This will give total deforestation in that year####\n",
    "    t = np.argwhere(img==year)\n",
    "    return (name,t.shape[0])\n",
    "    \n",
    "    "
   ]
  },
  {
   "cell_type": "code",
   "execution_count": 319,
   "metadata": {},
   "outputs": [],
   "source": [
    "loss_rdd = sc.binaryFiles(\"hdfs://proj-working-m:8020/user/saif/loss/*.tif\")"
   ]
  },
  {
   "cell_type": "code",
   "execution_count": 320,
   "metadata": {},
   "outputs": [
    {
     "name": "stdout",
     "output_type": "stream",
     "text": [
      "126\n"
     ]
    }
   ],
   "source": [
    "####Collect loss results####\n",
    "loss_res = loss_rdd.map(loss_mapper_func).collect()\n",
    "print(len(loss_res))"
   ]
  },
  {
   "cell_type": "code",
   "execution_count": 321,
   "metadata": {},
   "outputs": [
    {
     "data": {
      "text/plain": [
       "(u'hdfs://proj-working-m:8020/user/saif/loss/Hansen_GFC-2016-v1.4_lossyear_10N_080W.tif',\n",
       " 4647232)"
      ]
     },
     "execution_count": 321,
     "metadata": {},
     "output_type": "execute_result"
    }
   ],
   "source": [
    "loss_res[0]"
   ]
  },
  {
   "cell_type": "markdown",
   "metadata": {},
   "source": [
    "<h2> Check if values are read properly from HDFS in bytes</h2>"
   ]
  },
  {
   "cell_type": "code",
   "execution_count": 322,
   "metadata": {},
   "outputs": [],
   "source": [
    "def check_no_garbage(x):\n",
    "    name = x[0]\n",
    "    img = Image.open(io.BytesIO(x[1]))\n",
    "    img = np.asarray(img,dtype=np.uint8)\n",
    "    u = np.unique(img)\n",
    "    return (name,u)"
   ]
  },
  {
   "cell_type": "code",
   "execution_count": 64,
   "metadata": {},
   "outputs": [
    {
     "name": "stdout",
     "output_type": "stream",
     "text": [
      "[(u'hdfs://proj-working-m:8020/user/saif/temp/9.9S-30.1W.tif', array([0], dtype=uint8)), (u'hdfs://proj-working-m:8020/user/saif/temp/9.9S-30.2W.tif', array([0], dtype=uint8)), (u'hdfs://proj-working-m:8020/user/saif/temp/9.9S-30.3W.tif', array([0], dtype=uint8)), (u'hdfs://proj-working-m:8020/user/saif/temp/9.9S-30.4W.tif', array([0], dtype=uint8)), (u'hdfs://proj-working-m:8020/user/saif/temp/9.9S-30.5W.tif', array([0], dtype=uint8)), (u'hdfs://proj-working-m:8020/user/saif/temp/9.9S-30.6W.tif', array([0], dtype=uint8)), (u'hdfs://proj-working-m:8020/user/saif/temp/9.9S-30.7W.tif', array([0], dtype=uint8)), (u'hdfs://proj-working-m:8020/user/saif/temp/9.9S-30.8W.tif', array([0], dtype=uint8)), (u'hdfs://proj-working-m:8020/user/saif/temp/9.9S-30.9W.tif', array([0], dtype=uint8)), (u'hdfs://proj-working-m:8020/user/saif/temp/9.9S-31.0W.tif', array([0], dtype=uint8))]\n"
     ]
    }
   ],
   "source": [
    "rdd_trial = sc.binaryFiles(\"hdfs://proj-working-m:8020/user/saif/temp/\").map(check_no_garbage).take(10)\n",
    "print(rdd_trial)"
   ]
  },
  {
   "cell_type": "markdown",
   "metadata": {},
   "source": [
    "<h2> Save loss/deforestation results for further analysis </h2>"
   ]
  },
  {
   "cell_type": "code",
   "execution_count": 26,
   "metadata": {},
   "outputs": [],
   "source": [
    "f1 = open(\"/home/saifsuleman_vazir/loss_results_new.txt\",\"w\")\n",
    "for i in range(60):\n",
    "    f1.write(str(loss_res[i][0])+\",\"+str(loss_res[i][1])+\"\\n\")\n",
    "for i in range(60,len(loss_res)):\n",
    "    f1.write(str(loss_res[i][0])+\",\"+str(loss_res[i][1])+\"\\n\")\n",
    "f1.close()"
   ]
  },
  {
   "cell_type": "markdown",
   "metadata": {},
   "source": [
    "<h2> Loss only for year 2015</h2>\n",
    "<p>This function calculates loss for 2015 from 2016 images as data for the year 2015 and 2016 is different due\n",
    "to version change at the source. These losses constitute a part of our results to measure total deforestation in a particular year. </p>\n",
    "<h3> Pipeline used:</h3>\n",
    "<ul>\n",
    "    <li>Spark</li>\n",
    "    <li>Hadoop(HDFS)</li>\n",
    "</ul>"
   ]
  },
  {
   "cell_type": "code",
   "execution_count": 7,
   "metadata": {},
   "outputs": [],
   "source": [
    "def loss_mapper_func_2015(x):\n",
    "    name = x[0]\n",
    "    img = Image.open(io.BytesIO(x[1]))\n",
    "    img = np.asarray(img,dtype=np.uint8)\n",
    "    year = 0\n",
    "    if \"-\" in name.split(\"_\")[1]:\n",
    "        year = int(name.split(\"_\")[1].split(\"-\")[1][-2:])-1\n",
    "    else:\n",
    "        year = int(name.split(\"_\")[1][-2:])-1\n",
    "    t = np.argwhere(img==year)\n",
    "    return (name,t.shape[0])"
   ]
  },
  {
   "cell_type": "code",
   "execution_count": 31,
   "metadata": {},
   "outputs": [
    {
     "name": "stdout",
     "output_type": "stream",
     "text": [
      "21\n"
     ]
    }
   ],
   "source": [
    "rdd_2016 = sc.binaryFiles(\"hdfs://proj-working-m:8020/user/saif/loss/only2016/\").map(loss_mapper_func_2015).collect()\n",
    "print(len(rdd_2016))"
   ]
  },
  {
   "cell_type": "code",
   "execution_count": 32,
   "metadata": {},
   "outputs": [],
   "source": [
    "f2 = open(\"/home/saifsuleman_vazir/loss_results_2015.txt\",\"w\")\n",
    "for i in range(len(rdd_2016)):\n",
    "    f2.write(str(rdd_2016[i][0])+\",\"+str(rdd_2016[i][1])+\"\\n\")\n",
    "f2.close()"
   ]
  },
  {
   "cell_type": "markdown",
   "metadata": {},
   "source": [
    "<h2> Split images into smaller tiles </h2>\n",
    "<p> This map function will split each 40000x40000 image into 400x400 tiles. This is required so that finer granularity analysis can take place. Also, we will pass these smaller images through a deep learning model to get the respective features for clustering.</p>\n",
    "<h3> Pipeline used:</h3>\n",
    "<ul>\n",
    "    <li>Spark</li>\n",
    "    <li>Hadoop(HDFS)</li>\n",
    "</ul>"
   ]
  },
  {
   "cell_type": "code",
   "execution_count": 324,
   "metadata": {},
   "outputs": [],
   "source": [
    "def split_images(x):\n",
    "    name = x[0]\n",
    "    img = Image.open(io.BytesIO(x[1]))\n",
    "    img = np.asarray(img,dtype=np.uint8)\n",
    "    new_size = 400\n",
    "    factor = int(img.shape[0]/new_size)\n",
    "    w = np.split(img, factor, 1)\n",
    "    y1 = np.array(w)\n",
    "    w1 = np.split(y1, factor, 1)\n",
    "    y = np.array(w1)\n",
    "    ###Create 10000x400x400 matrix, each tile is 400x400 and we have 10000 such tiles per image of 40K x 40K####\n",
    "    z = y.reshape([y.shape[0]*y.shape[1]]+list(y.shape[2:]))\n",
    "    ###Diff is number of degrees changed per small tile####\n",
    "    diff = 0.1\n",
    "    result = list()\n",
    "    split_fname = name.split('_')\n",
    "    lng = float(split_fname[-1].split('.tif')[0][:-1])\n",
    "    e_w = 1 if split_fname[-1].split('.tif')[0][-1]=='E' else -1\n",
    "    lat = float(split_fname[-2][:-1])\n",
    "    n_s = 1 if split_fname[-2][-1]=='S' else -1\n",
    "    year = 0\n",
    "    if \"-\" in name.split(\"_\")[1]:\n",
    "        year = int(name.split(\"_\")[1].split(\"-\")[1][-2:])\n",
    "    else:\n",
    "        year = int(name.split(\"_\")[1][-2:])-1\n",
    "    \n",
    "    if \"treecover\" in name:\n",
    "        flag = \"0\"\n",
    "    elif \"loss\" in name:\n",
    "        flag = \"1\"\n",
    "    elif \"gain\" in name:\n",
    "        flag = \"2\"\n",
    "    else:\n",
    "        flag = \"3\"\n",
    "    complement_dirn = { 'S': 'N', 'N': 'S', 'E': 'W', 'W': 'E'}\n",
    "    \n",
    "    ##### Create key value pairs with key as latitude longitude, value as year, smaller tiles and flag#####\n",
    "    \n",
    "    for i, arr in enumerate(z):\n",
    "        latitude = (lat+n_s*(i%y.shape[0]) * diff)\n",
    "        longitude = (lng+e_w*(i//y.shape[0]) * diff)\n",
    "        dirn_lng = split_fname[-1].split('.tif')[0][-1]\n",
    "        dirn_lat = split_fname[-2][-1]\n",
    "        if latitude<0:\n",
    "            latitude = -1*latitude\n",
    "            dirn_lat = complement_dirn[dirn_lat]\n",
    "        if longitude<0:\n",
    "            longitude = -1*longitude\n",
    "            dirn_lng = complement_dirn[dirn_lng]\n",
    "        my_key = str(latitude)+dirn_lat+'-'+str(longitude)+dirn_lng+\".tif\"\n",
    "        ###### Handle case for missing 15 data at source #######\n",
    "        if year == 16:\n",
    "            key_for_15 = str(latitude)+dirn_lat+'-'+str(longitude)+dirn_lng+\".tif\"\n",
    "            result.append((key_for_15, (year-1,arr,flag)))\n",
    "        result.append((my_key,(year, arr, flag))) \n",
    "    return result\n",
    "    "
   ]
  },
  {
   "cell_type": "markdown",
   "metadata": {},
   "source": [
    "<h3> Map function to calculate loss in smaller regions </h3>"
   ]
  },
  {
   "cell_type": "code",
   "execution_count": 325,
   "metadata": {},
   "outputs": [],
   "source": [
    "def sum_split_images(vs):\n",
    "    t = np.argwhere(list(vs[1])[1]==int(vs[1][0]))\n",
    "    return (vs[0],len(t))"
   ]
  },
  {
   "cell_type": "code",
   "execution_count": 326,
   "metadata": {},
   "outputs": [],
   "source": [
    "rdd_split_test = sc.binaryFiles(\"hdfs://proj-working-m:8020/user/saif/loss/only2018/\").flatMap(split_images)"
   ]
  },
  {
   "cell_type": "markdown",
   "metadata": {},
   "source": [
    "<h2> Plot some small tiles as forest change map </h2>\n",
    "<p>Treecover is represented as green pixels, deforestation is represented by red pixels. Black pixels represent no forest cover in that area. These maps constitute a part of our results.</p>\n",
    "<h3> Pipeline used:</h3>\n",
    "<ul>\n",
    "    <li>Spark</li>\n",
    "    <li>Hadoop(HDFS)</li>\n",
    "</ul>"
   ]
  },
  {
   "cell_type": "code",
   "execution_count": 327,
   "metadata": {},
   "outputs": [],
   "source": [
    "%matplotlib inline"
   ]
  },
  {
   "cell_type": "code",
   "execution_count": 328,
   "metadata": {},
   "outputs": [],
   "source": [
    "import matplotlib.pyplot as plt"
   ]
  },
  {
   "cell_type": "code",
   "execution_count": 329,
   "metadata": {},
   "outputs": [],
   "source": [
    "####Split loss images into smaller images ####\n",
    "rdd_treecover = sc.binaryFiles(\"hdfs://proj-working-m:8020/user/saif/temp/\").flatMap(split_images)#.map(lambda x:(x[0].split(\"/\")[-1],x[1]))"
   ]
  },
  {
   "cell_type": "code",
   "execution_count": 330,
   "metadata": {},
   "outputs": [],
   "source": [
    "####Join treecover rdd with loss rdd using name of image as key #######\n",
    "rdd_all = rdd_treecover.join(rdd_split_test)"
   ]
  },
  {
   "cell_type": "code",
   "execution_count": 331,
   "metadata": {},
   "outputs": [],
   "source": [
    "def forest_map(x):\n",
    "    k = x[0]\n",
    "    treecover_img = x[1][0][1]\n",
    "    year = x[1][1][0]\n",
    "    arr = x[1][1][1]\n",
    "    flag = x[1][1][2]\n",
    "#     color = [0,0,0]\n",
    "    forest_change_map = np.zeros((treecover_img.shape[0],treecover_img.shape[1],3),dtype=np.uint8)\n",
    "    green_idx = np.argwhere(treecover_img!=0)\n",
    "    for each in green_idx:\n",
    "        forest_change_map[each[0],each[1]] = [0,255,0]\n",
    "    if flag == \"1\":\n",
    "#         color = [0,0,255]           #Color loss pixels as red\n",
    "        red_idx = np.argwhere(arr==year)\n",
    "        for each in red_idx:\n",
    "            forest_change_map[each[0],each[1]] = [255,0,0]\n",
    "    else:\n",
    "#         color = [255,0,0]          #Color gain as blue\n",
    "        blue_idx = np.argwhere(arr==1)\n",
    "        for each in blue_idx:\n",
    "            forest_change_map[each[0],each[1]] = [0,0,255]\n",
    "    \n",
    "    return (k,forest_change_map)"
   ]
  },
  {
   "cell_type": "code",
   "execution_count": 332,
   "metadata": {},
   "outputs": [],
   "source": [
    "fc_maps = rdd_all.map(forest_map).take(5)"
   ]
  },
  {
   "cell_type": "code",
   "execution_count": 333,
   "metadata": {},
   "outputs": [
    {
     "data": {
      "image/png": "[encoded data removed]",
      "text/plain": [
       "<matplotlib.figure.Figure at 0x7f3062277090>"
      ]
     },
     "metadata": {},
     "output_type": "display_data"
    }
   ],
   "source": [
    "w=10\n",
    "h=10\n",
    "fig=plt.figure(figsize=(8, 8))\n",
    "columns = 3\n",
    "rows = 2\n",
    "for i in range(1, columns*rows):\n",
    "    img = fc_maps[i-1][1]\n",
    "    fig.add_subplot(rows, columns, i)\n",
    "    plt.title(fc_maps[i-1][0])\n",
    "    plt.imshow(img)\n",
    "plt.show()\n",
    "#####Green pixels show tree cover, red pixels show deforestation and black pixels represent no forest cover#####"
   ]
  },
  {
   "cell_type": "markdown",
   "metadata": {},
   "source": [
    "<h2> Feature extraction using Alexnet </h2>\n",
    "<p> Use Pretrained Alexnet as a feature extractor on the images. Then pass these features for clustering using k-means clustering method. </p>\n",
    "<h3> Pipeline used:</h3>\n",
    "<ul>\n",
    "    <li>Spark</li>\n",
    "    <li>Hadoop(HDFS)</li>\n",
    "    <li>Pytorch</li>\n",
    "</ul>\n",
    "<h3> Concepts used:</h3>\n",
    "<ul>\n",
    "    <li>Neural networks</li>\n",
    "    <li>K-Means clustering</li>\n",
    "    <li>Data Parallelism</li>\n",
    "</ul>"
   ]
  },
  {
   "cell_type": "code",
   "execution_count": 16,
   "metadata": {},
   "outputs": [],
   "source": [
    "import torch\n",
    "import torch.nn as nn\n",
    "import torch.optim as optim\n",
    "from torch.optim import lr_scheduler\n",
    "import torchvision\n",
    "from torchvision import datasets, models, transforms\n",
    "from torch.autograd import Variable\n",
    "import time\n",
    "import copy\n",
    "import cv2"
   ]
  },
  {
   "cell_type": "code",
   "execution_count": 17,
   "metadata": {},
   "outputs": [],
   "source": [
    "####Get pretrained Alexnet model####\n",
    "model_ft = models.alexnet(pretrained=True)"
   ]
  },
  {
   "cell_type": "code",
   "execution_count": 18,
   "metadata": {},
   "outputs": [],
   "source": [
    "###Remove last FC layer####\n",
    "new_classifier = nn.Sequential(*list(model_ft.classifier.children())[:-1])\n",
    "model_ft.classifier = new_classifier\n",
    "global model_bc\n",
    "####Broadcast entire model to all nodes###\n",
    "model_bc = sc.broadcast(model_ft)"
   ]
  },
  {
   "cell_type": "code",
   "execution_count": 19,
   "metadata": {},
   "outputs": [
    {
     "data": {
      "text/plain": [
       "AlexNet(\n",
       "  (features): Sequential(\n",
       "    (0): Conv2d(3, 64, kernel_size=(11, 11), stride=(4, 4), padding=(2, 2))\n",
       "    (1): ReLU(inplace)\n",
       "    (2): MaxPool2d(kernel_size=3, stride=2, padding=0, dilation=1, ceil_mode=False)\n",
       "    (3): Conv2d(64, 192, kernel_size=(5, 5), stride=(1, 1), padding=(2, 2))\n",
       "    (4): ReLU(inplace)\n",
       "    (5): MaxPool2d(kernel_size=3, stride=2, padding=0, dilation=1, ceil_mode=False)\n",
       "    (6): Conv2d(192, 384, kernel_size=(3, 3), stride=(1, 1), padding=(1, 1))\n",
       "    (7): ReLU(inplace)\n",
       "    (8): Conv2d(384, 256, kernel_size=(3, 3), stride=(1, 1), padding=(1, 1))\n",
       "    (9): ReLU(inplace)\n",
       "    (10): Conv2d(256, 256, kernel_size=(3, 3), stride=(1, 1), padding=(1, 1))\n",
       "    (11): ReLU(inplace)\n",
       "    (12): MaxPool2d(kernel_size=3, stride=2, padding=0, dilation=1, ceil_mode=False)\n",
       "  )\n",
       "  (avgpool): AdaptiveAvgPool2d(output_size=(6, 6))\n",
       "  (classifier): Sequential(\n",
       "    (0): Dropout(p=0.5)\n",
       "    (1): Linear(in_features=9216, out_features=4096, bias=True)\n",
       "    (2): ReLU(inplace)\n",
       "    (3): Dropout(p=0.5)\n",
       "    (4): Linear(in_features=4096, out_features=4096, bias=True)\n",
       "    (5): ReLU(inplace)\n",
       "  )\n",
       ")"
      ]
     },
     "execution_count": 19,
     "metadata": {},
     "output_type": "execute_result"
    }
   ],
   "source": [
    "model_bc.value"
   ]
  },
  {
   "cell_type": "code",
   "execution_count": 23,
   "metadata": {},
   "outputs": [],
   "source": [
    "def feature_extractor(x):\n",
    "    k = x[0]\n",
    "    year = x[1][0]\n",
    "    arr = x[1][1]\n",
    "    new_mat = np.zeros(arr.shape,dtype=np.uint8)\n",
    "    scaler = transforms.Scale((224, 224))\n",
    "    normalize = transforms.Normalize(mean=[0.485, 0.456, 0.406],std=[0.229, 0.224, 0.225])\n",
    "    to_tensor = transforms.ToTensor()\n",
    "    t = np.argwhere(arr==year)\n",
    "    for each in t:\n",
    "        new_mat[each[0],each[1]] = 255\n",
    "    inputs = np.zeros((new_mat.shape[0],new_mat.shape[1],3),dtype=np.uint8)\n",
    "    inputs[:,:,0] = new_mat\n",
    "    inputs[:,:,1] = new_mat\n",
    "    inputs[:,:,2] = new_mat\n",
    "    img = Image.fromarray(inputs)\n",
    "    ####Create input variable from above matrix ######\n",
    "    t_img = Variable(normalize(to_tensor(scaler(img))).unsqueeze(0))\n",
    "    (model_bc.value).eval()\n",
    "    op = (model_bc.value)(t_img)\n",
    "    op = op.detach().numpy()\n",
    "    #####Return name as key and output as 4096 vector#####\n",
    "    return (k,(year,op))"
   ]
  },
  {
   "cell_type": "code",
   "execution_count": 24,
   "metadata": {},
   "outputs": [],
   "source": [
    "###Gather features into csv###\n",
    "feats = rdd_split_test.map(feature_extractor).take(1000)"
   ]
  },
  {
   "cell_type": "code",
   "execution_count": 84,
   "metadata": {},
   "outputs": [
    {
     "data": {
      "text/plain": [
       "array([[False, False, False, ..., False, False, False]])"
      ]
     },
     "execution_count": 84,
     "metadata": {},
     "output_type": "execute_result"
    }
   ],
   "source": [
    "####Sanity check to see if no nans present####\n",
    "np.isnan(feats[0][1][1])"
   ]
  },
  {
   "cell_type": "code",
   "execution_count": 290,
   "metadata": {},
   "outputs": [],
   "source": [
    "###Create matrix for clustering####\n",
    "X = np.zeros((1,4096))\n",
    "for each in feats:\n",
    "    X = np.vstack((X,each[1][1]))\n",
    "X = X[1:,:]"
   ]
  },
  {
   "cell_type": "code",
   "execution_count": 291,
   "metadata": {},
   "outputs": [
    {
     "data": {
      "text/plain": [
       "(364, 1000)"
      ]
     },
     "execution_count": 291,
     "metadata": {},
     "output_type": "execute_result"
    }
   ],
   "source": [
    "####Remove columns with all 0s###\n",
    "X = X.T\n",
    "X = X[~np.all(X == 0, axis=1)]\n",
    "X.shape"
   ]
  },
  {
   "cell_type": "code",
   "execution_count": 292,
   "metadata": {},
   "outputs": [
    {
     "data": {
      "text/plain": [
       "(1000, 364)"
      ]
     },
     "execution_count": 292,
     "metadata": {},
     "output_type": "execute_result"
    }
   ],
   "source": [
    "####Re-transform to original shape###\n",
    "X_new = X.T\n",
    "X_new.shape"
   ]
  },
  {
   "cell_type": "code",
   "execution_count": 297,
   "metadata": {},
   "outputs": [
    {
     "data": {
      "text/plain": [
       "array([[0.05835306, 0.90425146, 2.0337801 , ..., 0.09727066, 1.46044004,\n",
       "        0.28487837],\n",
       "       [0.05835306, 0.90425146, 2.0337801 , ..., 0.09727066, 1.46044004,\n",
       "        0.28487837],\n",
       "       [0.05835306, 0.90425146, 2.0337801 , ..., 0.09727066, 1.46044004,\n",
       "        0.28487837],\n",
       "       ...,\n",
       "       [0.05835306, 0.90425146, 2.0337801 , ..., 0.09727066, 1.46044004,\n",
       "        0.28487837],\n",
       "       [0.05835306, 0.90425146, 2.0337801 , ..., 0.09727066, 1.46044004,\n",
       "        0.28487837],\n",
       "       [0.05835306, 0.90425146, 2.0337801 , ..., 0.09727066, 1.46044004,\n",
       "        0.28487837]])"
      ]
     },
     "execution_count": 297,
     "metadata": {},
     "output_type": "execute_result"
    }
   ],
   "source": [
    "X_new"
   ]
  },
  {
   "cell_type": "code",
   "execution_count": 293,
   "metadata": {},
   "outputs": [],
   "source": [
    "from sklearn.cluster import KMeans\n",
    "from sklearn.preprocessing import StandardScaler"
   ]
  },
  {
   "cell_type": "code",
   "execution_count": 295,
   "metadata": {},
   "outputs": [
    {
     "name": "stdout",
     "output_type": "stream",
     "text": [
      "1 0.0\n",
      "2 0.0\n",
      "3 0.0\n",
      "4 0.0\n",
      "5 0.0\n",
      "6 0.0\n",
      "7 0.0\n",
      "8 0.0\n",
      "9 0.0\n",
      "10 0.0\n"
     ]
    }
   ],
   "source": [
    "###Perform clustering for different values of k####\n",
    "sse2_cnn = []\n",
    "for k in range(1,11):\n",
    "    kmeans = KMeans(n_clusters=k,random_state=0).fit(X_new)\n",
    "    sse2_cnn.append(sum(np.min(cdist(X_new, kmeans.cluster_centers_, 'euclidean'), axis=1)) / X_new.shape[0])\n",
    "    print k, sse2_cnn[-1]\n",
    "###All values of tiles are same, therefore sum of squared errors is 0####"
   ]
  },
  {
   "cell_type": "markdown",
   "metadata": {},
   "source": [
    "<h2> Conclusion from above clustering experiment </h2>\n",
    "<p> As was suggested by the Professor in the feedback, CNN cannot perform well as a feature extractor in our case as the maps are binary (black/white) and have no distinguishable features in a small tile (400x400). This method can be applicable at a larger scale where bigger images can have more distinguishable features in terms of shapes/boundaries. But our current configuration prohibits us to follow this direction as the large image (40Kx40K) will not fit into main memory. Therefore, we will use hand-crafted features to perform clustering and see its performance.</p>  "
   ]
  },
  {
   "cell_type": "markdown",
   "metadata": {},
   "source": [
    "<h2> Use hand-crafted features for clustering and KNN to find nearest neighbours in that cluster </h2>"
   ]
  },
  {
   "cell_type": "code",
   "execution_count": 335,
   "metadata": {},
   "outputs": [],
   "source": [
    "from sklearn.preprocessing import StandardScaler\n",
    "from sklearn import metrics\n",
    "from scipy.spatial.distance import cdist\n",
    "from sklearn.cluster import KMeans\n",
    "import matplotlib.pyplot as plt\n",
    "from collections import Counter\n",
    "from random import shuffle\n",
    "from scipy.spatial import distance"
   ]
  },
  {
   "cell_type": "code",
   "execution_count": 336,
   "metadata": {},
   "outputs": [],
   "source": [
    "###Function to calculate featurs as latitude,longitude,year and cumulative loss####\n",
    "def data_for_cluster(x):\n",
    "    name = x[0]\n",
    "    img = x[1][1]\n",
    "    new_size = 400\n",
    "    factor = int(img.shape[0]/new_size)\n",
    "    w = np.split(img, factor, 1)\n",
    "    y1 = np.array(w)\n",
    "    w1 = np.split(y1, factor, 1)\n",
    "    y = np.array(w1)\n",
    "    z = y.reshape([y.shape[0]*y.shape[1]]+list(y.shape[2:]))\n",
    "    \n",
    "    diff = 0.1\n",
    "    result = list()\n",
    "    split_fname = name.split('-')\n",
    "    lng = float(split_fname[-1].split('.tif')[0][:-1])\n",
    "    e_w = 1 if split_fname[-1].split('.tif')[0][-1]=='E' else -1\n",
    "    lat = float(split_fname[-2][:-1])\n",
    "    n_s = 1 if split_fname[-2][-1]=='S' else -1\n",
    "    year = x[1][0]\n",
    "    \n",
    "    ##### For each small tile, add list of [lat,long,year,loss] to array #####\n",
    "    \n",
    "    for i, arr in enumerate(z):\n",
    "        latitude = (lat+n_s*(i//y.shape[0]) * diff)\n",
    "        longitude = (lng+e_w*(i%y.shape[0]) * diff)\n",
    "        ###### Handle case for missing 15 data at source #######\n",
    "        if year == 16:\n",
    "            tmp = []\n",
    "            tmp.append(latitude)\n",
    "            tmp.append(longitude)\n",
    "            tmp.append(year-1)\n",
    "            tmp.append(len(np.argwhere(arr == year-1)))\n",
    "            result.append(tmp)\n",
    "        tmp=[]\n",
    "        tmp.append(latitude)\n",
    "        tmp.append(longitude)\n",
    "        tmp.append(year)\n",
    "        tmp.append(len(np.argwhere(arr == year)))\n",
    "        result.append(tmp)\n",
    "    return result"
   ]
  },
  {
   "cell_type": "code",
   "execution_count": 337,
   "metadata": {},
   "outputs": [],
   "source": [
    "#####Gather hand crafted features in format (latitude,longitude,year, loss/deforestation) #######\n",
    "hand_crafted_features = rdd_split_test.flatMap(data_for_cluster).collect()"
   ]
  },
  {
   "cell_type": "code",
   "execution_count": 338,
   "metadata": {},
   "outputs": [
    {
     "data": {
      "text/plain": [
       "87642"
      ]
     },
     "execution_count": 338,
     "metadata": {},
     "output_type": "execute_result"
    }
   ],
   "source": [
    "####Sanity check to confirm that there are non-zero loss values####\n",
    "x = [a[3] for a in hand_crafted_features]\n",
    "x = np.array(x)\n",
    "np.count_nonzero(x)"
   ]
  },
  {
   "cell_type": "code",
   "execution_count": 339,
   "metadata": {},
   "outputs": [
    {
     "name": "stdout",
     "output_type": "stream",
     "text": [
      "(210000, 4)\n"
     ]
    }
   ],
   "source": [
    "####Scale data before clustering#####\n",
    "scaler = StandardScaler()\n",
    "hand_crafted_features = np.array(hand_crafted_features)\n",
    "transformed_data = scaler.fit_transform(hand_crafted_features)\n",
    "print transformed_data.shape"
   ]
  },
  {
   "cell_type": "code",
   "execution_count": 340,
   "metadata": {},
   "outputs": [
    {
     "name": "stdout",
     "output_type": "stream",
     "text": [
      "1 1.445044695913964\n",
      "2 1.1153481212324254\n",
      "3 0.894020269237274\n",
      "4 0.8259989544836764\n",
      "5 0.7926578572058556\n",
      "6 0.7050681388396768\n",
      "7 0.637305707264488\n",
      "8 0.6242005369999865\n",
      "9 0.5801433979423454\n",
      "10 0.5688523991468857\n",
      "11 0.5390639279960279\n",
      "12 0.5108770838573834\n",
      "13 0.48082752167438864\n",
      "14 0.4693561241495024\n",
      "15 0.4470831240286841\n"
     ]
    }
   ],
   "source": [
    "####Perform kmeans clustering with different cluster sizes to find intrinsic clusters in the data######\n",
    "sse1 = []\n",
    "sse2 = []\n",
    "xval = []\n",
    "\n",
    "for i in range(1, 16):\n",
    "    kmeans = KMeans(n_clusters=i, random_state=0).fit(transformed_data)\n",
    "    sse1.append(kmeans.inertia_)\n",
    "    sse2.append(sum(np.min(cdist(transformed_data, kmeans.cluster_centers_, 'euclidean'), axis=1)) / transformed_data.shape[0])\n",
    "    xval.append(i)\n",
    "    print i, sse2[-1]"
   ]
  },
  {
   "cell_type": "code",
   "execution_count": 341,
   "metadata": {},
   "outputs": [
    {
     "data": {
      "image/png": "[encoded data removed]",
      "text/plain": [
       "<matplotlib.figure.Figure at 0x7f307d917e50>"
      ]
     },
     "metadata": {},
     "output_type": "display_data"
    }
   ],
   "source": [
    "###Plot sum of squared distance in clusters versus number of clusters#####\n",
    "plt.plot(xval, sse2, 'bx-')\n",
    "plt.show()"
   ]
  },
  {
   "cell_type": "markdown",
   "metadata": {},
   "source": [
    "<h2> Elbow method </h2>\n",
    "<p> In the above plot we can visually see that the number of intrinsic clusters is 3 by following the elbow method. Therefore we will perform clustering with 3 clusters and find the nearest neighbours of some data points in these clusters. We can then visually inspect if the results are satisfactory. Further offline analysis can be done using the geographic location of the tiles to see that a particular area/region might be affected by more deforestation/loss and find the reason behind it.</p> "
   ]
  },
  {
   "cell_type": "code",
   "execution_count": 342,
   "metadata": {},
   "outputs": [],
   "source": [
    "kmeans = KMeans(n_clusters=3, random_state=0).fit(transformed_data)"
   ]
  },
  {
   "cell_type": "code",
   "execution_count": 343,
   "metadata": {},
   "outputs": [
    {
     "data": {
      "text/plain": [
       "Counter({0: 73867, 1: 71423, 2: 64710})"
      ]
     },
     "execution_count": 343,
     "metadata": {},
     "output_type": "execute_result"
    }
   ],
   "source": [
    "###Uniform clusters formed###\n",
    "lab = np.array(kmeans.labels_)\n",
    "Counter(lab)"
   ]
  },
  {
   "cell_type": "code",
   "execution_count": 344,
   "metadata": {},
   "outputs": [],
   "source": [
    "####Get 50 random data points for each cluster### \n",
    "dic = {}\n",
    "for cid in range(3):\n",
    "    idx = np.argwhere(lab==cid).flatten()\n",
    "    shuffle(idx)\n",
    "\n",
    "    my_idx = idx[:50]\n",
    "    xval = []\n",
    "    yval = []\n",
    "    for x in my_idx:\n",
    "        yval.append(hand_crafted_features[x, 0]) # lat\n",
    "        xval.append(hand_crafted_features[x, 1]) # lng\n",
    "    dic[cid]=[xval, yval]"
   ]
  },
  {
   "cell_type": "code",
   "execution_count": 345,
   "metadata": {},
   "outputs": [
    {
     "data": {
      "image/png": "[encoded data removed]",
      "text/plain": [
       "<matplotlib.figure.Figure at 0x7f3062119f90>"
      ]
     },
     "metadata": {},
     "output_type": "display_data"
    }
   ],
   "source": [
    "####Plot cluster points to visualize results###\n",
    "marker = ['ro','bp','gd']\n",
    "for cid, val in dic.items():\n",
    "    plt.plot(val[0], val[1], marker[cid])\n",
    "    plt.xlabel(\"longitude\")\n",
    "    plt.ylabel(\"latitude\")\n",
    "plt.show()"
   ]
  },
  {
   "cell_type": "markdown",
   "metadata": {},
   "source": [
    "<h2>Conclusions from the above plots</h2>\n",
    "<p>After clustering the hand-crafted features for loss/deforestation over the year 2018, we can observe that the clusters are  well defined and isolated. The x-axis represents the longitude(30W-80W) and the y-axis represents the latitude(00N-60S). We can infer that forests lying between latitude 00N-30S and longitude 30W-60W have the same kind of deforestation. Similarly, forests of region (30S-60S,55W-80W) have similar deforestation and forests of region (00N-25S,60W-80W) have similar deforestation. These results can help us target specific regions with specific activites to curb deforestation. </p>"
   ]
  },
  {
   "cell_type": "markdown",
   "metadata": {},
   "source": [
    "<h2> Nearest Neighbours </h2>\n",
    "<p> Find the nearest neighbours of a sample datapoint and visually inspect the forest map to check the similarity of these forest areas/regions in terms of deforestation. </p>\n",
    "<h3> Concepts used:</h3>\n",
    "<ul>\n",
    "    <li>Nearest Neighbours</li>\n",
    "</ul>"
   ]
  },
  {
   "cell_type": "code",
   "execution_count": 304,
   "metadata": {},
   "outputs": [
    {
     "name": "stdout",
     "output_type": "stream",
     "text": [
      "3\n",
      "[32708, 51371, 53144, 15964, 50067]\n"
     ]
    }
   ],
   "source": [
    "####Take cluster 2 and find nearest neighbours of a particular point in this cluster#####\n",
    "cid = 2\n",
    "idx = np.argwhere(lab==cid).flatten()\n",
    "point = idx[0]\n",
    "print point\n",
    "dic = {}\n",
    "for x in idx:\n",
    "    dic[x] = distance.euclidean(hand_crafted_features[x], hand_crafted_features[point])\n",
    "\n",
    "closest_points = sorted(dic, key=dic.get)[-5:]\n",
    "print closest_points"
   ]
  },
  {
   "cell_type": "code",
   "execution_count": 305,
   "metadata": {},
   "outputs": [
    {
     "name": "stdout",
     "output_type": "stream",
     "text": [
      "[[8.0000e-01 4.7300e+01 1.8000e+01 3.5896e+04]\n",
      " [1.7100e+01 4.8700e+01 1.8000e+01 3.8685e+04]\n",
      " [1.4400e+01 4.6900e+01 1.8000e+01 4.0193e+04]\n",
      " [6.4000e+00 5.4100e+01 1.8000e+01 4.6276e+04]\n",
      " [1.6700e+01 5.0000e+01 1.8000e+01 7.5632e+04]]\n"
     ]
    }
   ],
   "source": [
    "####Results to see that a some regions have similar deforestation rates#####\n",
    "cp = hand_crafted_features[closest_points]\n",
    "print(cp)\n",
    "###Below result is of the format [Latitude,Longitude,Year,Loss]"
   ]
  },
  {
   "cell_type": "code",
   "execution_count": 306,
   "metadata": {},
   "outputs": [],
   "source": [
    "###Function to filter tiles from rdd based on key value, then visualize these tiles ####\n",
    "def show_image_tile(point, rdd_split_test):\n",
    "    try:\n",
    "        lat, lng, year, loss = point\n",
    "        year = int(year)\n",
    "        print lat, lng, year\n",
    "        n_s = \"S\"\n",
    "        e_w = \"W\"\n",
    "        if lat<0:\n",
    "            lat = str(-1*lat)\n",
    "            n_s = \"N\"\n",
    "        this_key=(str(lat)+n_s+\"-\"+str(lng)+e_w+\".tif\")\n",
    "        print this_key\n",
    "        img = rdd_split_test.filter(lambda x: (x[0]==this_key and x[1][0]==year)).first()[1][1]\n",
    "        red_idx = np.argwhere(img==year)\n",
    "        disp_img = np.zeros((img.shape[0],img.shape[1],3),dtype=np.uint8)\n",
    "        for each in red_idx:\n",
    "            disp_img[each[0],each[1]] = [255,0,0]\n",
    "        plt.imshow(disp_img)\n",
    "        plt.title((this_key, year))\n",
    "        plt.show()\n",
    "    except ValueError:\n",
    "        return"
   ]
  },
  {
   "cell_type": "code",
   "execution_count": 307,
   "metadata": {},
   "outputs": [
    {
     "name": "stdout",
     "output_type": "stream",
     "text": [
      "0.8 47.3 18\n",
      "0.8S-47.3W.tif\n"
     ]
    },
    {
     "data": {
      "image/png": "[encoded data removed]",
      "text/plain": [
       "<matplotlib.figure.Figure at 0x7f3061430f50>"
      ]
     },
     "metadata": {},
     "output_type": "display_data"
    },
    {
     "name": "stdout",
     "output_type": "stream",
     "text": [
      "17.1 48.7 18\n",
      "17.1S-48.7W.tif\n"
     ]
    },
    {
     "data": {
      "image/png": "[encoded data removed]",
      "text/plain": [
       "<matplotlib.figure.Figure at 0x7f3061ea4190>"
      ]
     },
     "metadata": {},
     "output_type": "display_data"
    },
    {
     "name": "stdout",
     "output_type": "stream",
     "text": [
      "14.4 46.9 18\n",
      "14.4S-46.9W.tif\n"
     ]
    },
    {
     "data": {
      "image/png": "[encoded data removed]",
      "text/plain": [
       "<matplotlib.figure.Figure at 0x7f3061441790>"
      ]
     },
     "metadata": {},
     "output_type": "display_data"
    },
    {
     "name": "stdout",
     "output_type": "stream",
     "text": [
      "6.4 54.1 18\n",
      "6.4S-54.1W.tif\n"
     ]
    },
    {
     "data": {
      "image/png": "[encoded data removed]",
      "text/plain": [
       "<matplotlib.figure.Figure at 0x7f3062174dd0>"
      ]
     },
     "metadata": {},
     "output_type": "display_data"
    },
    {
     "name": "stdout",
     "output_type": "stream",
     "text": [
      "16.7 50.0 18\n",
      "16.7S-50.0W.tif\n"
     ]
    },
    {
     "data": {
      "image/png": "[encoded data removed]",
      "text/plain": [
       "<matplotlib.figure.Figure at 0x7f30620a3510>"
      ]
     },
     "metadata": {},
     "output_type": "display_data"
    }
   ],
   "source": [
    "for p in cp:\n",
    "    show_image_tile(p,rdd_split_test)\n",
    "####Red pixels denote deforestation activities carried out in 2018 in a particular area###"
   ]
  },
  {
   "cell_type": "markdown",
   "metadata": {},
   "source": [
    "<h2> Linear regression </h2>\n",
    "<p> We will now try to predict the deforestation/loss by using multivariate regression. We have the label(predictor variable) as the loss, whereas the features(independent variables) will be latitude,longitude,year. Looking at the weights(correlation factors) of every feature will also give us insights regarding which features really affect the deforestation. <p>\n",
    "<h3> Concepts used:</h3>\n",
    "<ul>\n",
    "    <li>Regression</li>\n",
    "</ul>"
   ]
  },
  {
   "cell_type": "code",
   "execution_count": 218,
   "metadata": {},
   "outputs": [],
   "source": [
    "rdd_split_2017 = sc.binaryFiles(\"hdfs://proj-working-m:8020/user/saif/loss/only2017/\").flatMap(split_images)\n",
    "hand_crafted_feat_2017 = rdd_split_2017.flatMap(data_for_cluster).collect()"
   ]
  },
  {
   "cell_type": "code",
   "execution_count": 219,
   "metadata": {},
   "outputs": [
    {
     "name": "stdout",
     "output_type": "stream",
     "text": [
      "(210000, 4)\n"
     ]
    }
   ],
   "source": [
    "####Scale data before clustering#####\n",
    "scaler = StandardScaler()\n",
    "hand_crafted_feat_2017 = np.array(hand_crafted_feat_2017)\n",
    "transformed_data_2017 = scaler.fit_transform(hand_crafted_feat_2017)\n",
    "print transformed_data_2017.shape"
   ]
  },
  {
   "cell_type": "code",
   "execution_count": 254,
   "metadata": {},
   "outputs": [],
   "source": [
    "####Prepare data for regression###\n",
    "np.random.shuffle(hand_crafted_feat_2017)\n",
    "new_feat_mat = hand_crafted_feat_2017[hand_crafted_feat_2017[:,-1]!=0]\n",
    "X = new_feat_mat[:,:-1]\n",
    "Y = new_feat_mat[:,-1]\n",
    "X_train, X_test, Y_train, Y_test = train_test_split(X, Y, test_size = .20, random_state = 2)"
   ]
  },
  {
   "cell_type": "code",
   "execution_count": 255,
   "metadata": {},
   "outputs": [
    {
     "name": "stdout",
     "output_type": "stream",
     "text": [
      "MAE :  1298.3351737643593\n",
      "MSE :  7686148.223420502\n",
      "RMSE :  2772.390344706261\n"
     ]
    }
   ],
   "source": [
    "###Building ridge regression model, train-test split set at 80-20####\n",
    "from sklearn import linear_model\n",
    "from sklearn.model_selection import train_test_split\n",
    "\n",
    "regr = linear_model.Ridge(normalize=True) \n",
    "regr.fit(X_train, Y_train)\n",
    "predicted = regr.predict(X_test)\n",
    "\n",
    "# calculate MAE, MSE, RMSE\n",
    "print \"MAE : \", metrics.mean_absolute_error(Y_test, predicted)\n",
    "print \"MSE : \", metrics.mean_squared_error(Y_test, predicted)\n",
    "print \"RMSE : \", np.sqrt(metrics.mean_squared_error(Y_test, predicted))"
   ]
  },
  {
   "cell_type": "code",
   "execution_count": 256,
   "metadata": {},
   "outputs": [
    {
     "data": {
      "text/plain": [
       "array([ 1.20114281, -5.42087066,  0.        ])"
      ]
     },
     "execution_count": 256,
     "metadata": {},
     "output_type": "execute_result"
    }
   ],
   "source": [
    "regr.coef_"
   ]
  },
  {
   "cell_type": "code",
   "execution_count": 257,
   "metadata": {},
   "outputs": [
    {
     "data": {
      "text/plain": [
       "(array([ 979.87710598, 1122.02461286, 1166.73299109, 1143.86595708,\n",
       "        1028.86742323, 1180.61533671, 1130.58045603, 1154.7045528 ,\n",
       "        1092.55071219, 1021.17696366]),\n",
       " array([  78.,   87.,  295.,   33., 3247.,  807., 1014., 1035., 4669.,\n",
       "         922.]))"
      ]
     },
     "execution_count": 257,
     "metadata": {},
     "output_type": "execute_result"
    }
   ],
   "source": [
    "predicted[100:110], Y_test[100:110]"
   ]
  },
  {
   "cell_type": "markdown",
   "metadata": {},
   "source": [
    "<h2>Conclusions from Regression </h2>\n",
    "<p> We can see that there is a positive correlation between latitude and deforestation, and negative correlation between longitude and deforestation. Hence we can say that the deforestation rates for central and south-eastern parts of South America will generally be greater than northern and western parts</p>\n"
   ]
  }
 ],
 "metadata": {
  "kernelspec": {
   "display_name": "Python 3",
   "language": "python",
   "name": "python3"
  },
  "language_info": {
   "codemirror_mode": {
    "name": "ipython",
    "version": 3
   },
   "file_extension": ".py",
   "mimetype": "text/x-python",
   "name": "python",
   "nbconvert_exporter": "python",
   "pygments_lexer": "ipython3",
   "version": "3.7.0"
  }
 },
 "nbformat": 4,
 "nbformat_minor": 2
}
